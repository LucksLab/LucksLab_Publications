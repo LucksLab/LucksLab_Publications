{
 "cells": [
  {
   "cell_type": "markdown",
   "metadata": {},
   "source": [
    "### Supplementary Information for Programming Cell-Free Biosensors with DNA Strand Displacement Circuits\n",
    "\n",
    "Jaeyoung K. Jung$^{1,2,3}$, Chloé M. Archuleta$^{1,2,3}$, Khalid K. Alam$^{1,2,3,4}$ and Julius B. Lucks$^{1,2,3,4,5,*}$\n",
    "\n",
    "1 – Department of Chemical and Biological Engineering, Northwestern University (Evanston IL, USA)<br>\n",
    "2 – Center for Synthetic Biology, Northwestern University (Evanston, IL, USA)<br>\n",
    "3 – Center for Water Research, Northwestern University (Evanston, IL, USA)<br>\n",
    "4 – Stemloop, Inc. (Evanston, IL, USA)<br>\n",
    "5 – Interdisciplinary Biological Sciences Graduate Program, Northwestern University (Evanston, IL, USA)<br>\n",
    "*correspondence: jblucks@northwestern.edu <br> "
   ]
  },
  {
   "cell_type": "markdown",
   "metadata": {},
   "source": [
    "### ODE Model of ROSALIND-TMSD NOT Gate for Zinc\n",
    "\n",
    "\n",
    "Using the kinetics rates of RNAP-DNA binding, SmtB-smtO binding, SmtB-Zn binding, and toehold-mediated strand displacmenet, simulate ROSALIND-TMSD Reactions<br>\n",
    "\n",
    "**Reactant Species:**<br>\n",
    "\n",
    "D_unreg - Unregulated DNA template <br>\n",
    "D_smtO - Regulated DNA template with smtO operator sequence <br>\n",
    "RNAP - T7 RNAP <br>\n",
    "RD_unreg - T7 RNAP and unregulated DNA template bound complex <br>\n",
    "RD_smtO - T7 RNAP and smtO-regulated DNA template bound complex <br>\n",
    "SmtB - unbound, free SmtB tetramer <br>\n",
    "SmtBD - SmtB tetramer bound to one smtO <br>\n",
    "Zn - unbound, free Zn ions <br>\n",
    "SmtB_Zn - one Zn ion bound to SmtB tetramer <br>\n",
    "InvR_U - transcribed invading RNA strand from unregulated template <br>\n",
    "InvR_S - transcribed invading RNA strand from smtO template <br>\n",
    "Gated_S - InvR_S and InvR_U bound complex <br>\n",
    "SD - fluorescent DNA strand from signal gate <br>\n",
    "Q - InvadeR and FAM heteroduplex <br>\n",
    "RQ - signal gate <br>\n",
    "\n",
    "**Assumptions:**<br>\n",
    "\n",
    "- Thermodyanmics are modeled, but not individual base pairs/amino acids dynamics themselves\n",
    "- One-to-one binding of T7 RNAP and T7 promoter on the DNA template\n",
    "- One-to-one binding of SmtB tetramer and smtO on the DNA template\n",
    "- One-to-one binding of SmtB tetramer and a Zn ion\n",
    "- SmtB tetramer can be bound to either smtO on the DNA template or Zn, but not both.\n",
    "- All TMSD reactions are irreversible.\n",
    "- Fraying within each gate is ignored.\n",
    "<br>\n",
    "\n",
    "**Reactions:**<br>\n",
    "\n",
    "$$\\underline{\\text{Unregulated Template}}$$\n",
    "<br>\n",
    "$$RNAP + D_{unreg} \\xrightarrow[\\text{k_unbind}]{\\text{k_bind}} RD_{unreg}$$\n",
    "<br>\n",
    "<br>\n",
    "$$RD_{unreg} \\xrightarrow[\\text{}]{\\text{k_m_unreg}} InvR_{U} + RNAP + D_{unreg}$$\n",
    "<br>\n",
    "<br>\n",
    "\n",
    "$$\\underline{\\text{smtO-Regulated Template}}$$\n",
    "<br>\n",
    "$$SmtB + D_{smtO} \\xrightarrow[\\text{k_derep_S}]{\\text{k_rep_S}} SmtBD$$\n",
    "<br>\n",
    "<br>\n",
    "$$SmtB + Zn \\xrightarrow[\\text{k_unin_S}]{\\text{k_ind_S}} SmtB-Zn$$\n",
    "<br>\n",
    "<br>\n",
    "$$RNAP + D_{smtO} \\xrightarrow[\\text{k_unbind}]{\\text{k_bind}} RD_{smtO}$$\n",
    "<br>\n",
    "<br>\n",
    "$$RD_{smtO} \\xrightarrow[\\text{}]{\\text{k_m_smtO}} InvR_S + RNAP + D_{smtO}$$\n",
    "<br>\n",
    "<br>\n",
    "\n",
    "$$\\underline{\\text{Strand Displacements}}$$\n",
    "<br>\n",
    "$$InvR_S + InvR_U \\xrightarrow[\\text{}]{\\text{k_SD_NOT}} Gated_{S}$$\n",
    "<br>\n",
    "<br>\n",
    "$$InvR_{U} + RQ \\xrightarrow[\\text{}]{\\text{k_SD_mis}} SD + Q$$\n",
    "<br>\n",
    "<br>"
   ]
  },
  {
   "cell_type": "markdown",
   "metadata": {},
   "source": [
    "### Importing packages: "
   ]
  },
  {
   "cell_type": "code",
   "execution_count": 1,
   "metadata": {
    "ExecuteTime": {
     "end_time": "2021-10-05T19:25:03.354181Z",
     "start_time": "2021-10-05T19:25:02.681161Z"
    }
   },
   "outputs": [],
   "source": [
    "import matplotlib\n",
    "import numpy as np\n",
    "import scipy.integrate as spi\n",
    "import matplotlib.pyplot as plt\n",
    "import csv \n",
    "import pandas as pd"
   ]
  },
  {
   "cell_type": "markdown",
   "metadata": {},
   "source": [
    "### Setting the time range to run the simulation for:"
   ]
  },
  {
   "cell_type": "code",
   "execution_count": 2,
   "metadata": {
    "ExecuteTime": {
     "end_time": "2021-10-05T19:25:03.359474Z",
     "start_time": "2021-10-05T19:25:03.356261Z"
    }
   },
   "outputs": [],
   "source": [
    "t_start = 0\n",
    "t_step = 2.\n",
    "t_stop = 121.\n",
    "t = np.arange(t_start,t_stop,t_step)"
   ]
  },
  {
   "cell_type": "markdown",
   "metadata": {},
   "source": [
    "### Write out the set of ODEs to solve:\n",
    "\n",
    "$$d[RNAP] = k_{unbind}[RD_{smtO}] - k_{bind}[D_{smtO}][RNAP] + k_{m,smtO}[RD_{smtO}] + k_{unbind}[RD_{unreg}] - k_{bind}[D_{unreg}][RNAP] + k_{m_unreg}[RD_{unreg}]$$\n",
    "\n",
    "$$d[D_{unreg}] = k_{unbind}[RD_{unreg}] - k_{bind}[D_{unreg}][RNAP] + k_{m,unreg}[RD_{unreg}]$$\n",
    "\n",
    "$$d[D_{smtO}] = k_{unbind}[RD_{smtO}] - k_{bind}[D_{smtO}][RNAP] + k_{derep_S}[SmtBD] - k_{rep_S}[SmtB][D_{smtO}] + k_{m,smtO}[RD_{smtO}]$$\n",
    "\n",
    "$$d[SmtB] = k_{derep_S}[SmtBD] - k_{rep_S}[D_{smtO}][SmtB] - k_{ind_S}[SmtB][Zn] + k_{unin_S}[SmtB-Zn]$$\n",
    "\n",
    "$$d[SmtBD] = k_{rep_S}[D_{smtO}][SmtB] - k_{derep_S}[SmtBD]$$\n",
    "\n",
    "$$d[Zn] = k_{unin_S}[SmtB-Zn] - k_{ind_S}[SmtB][Zn]$$\n",
    "\n",
    "$$d[SmtB-Zn] = k_{ind_S}[SmtB][Zn] - k_{unin_S}[SmtB-Zn]$$\n",
    "\n",
    "$$d[RD_{smtO}] = k_{bind}[D_{smtO}][RNAP] - k_{unbind}[RD_{smtO}] - k_{m,smtO}[RD_{smtO}]$$\n",
    "\n",
    "$$d[RD_{unreg}] = k_{bind}[D_{unreg}][RNAP] - k_{unbind}[RD_{unreg}] - k_{m,unreg}[RD_{unreg}]$$\n",
    "\n",
    "$$d[InvR_S] = k_{m,smtO}[RD_{smtO}] - k_{SD-NOT}[InvR_U][InvR_S]$$\n",
    "\n",
    "$$d[InvR_U] = k_{m,unreg}[RD_{unreg}] - k_{SD-NOT}[InvR_S][InvR_U] - k_{SD-mis}[InvR_U][RQ]$$\n",
    "\n",
    "$$d[Gated_S] = k_{SD-NOT}[InvR_S][InvR_U]$$\n",
    "\n",
    "$$d[SD] = k_{SD-mis}[RQ][InvR_U]$$\n",
    "\n",
    "$$d[Q] = d[SD]$$\n",
    "\n",
    "$$d[RQ] = -d[SD]$$"
   ]
  },
  {
   "cell_type": "code",
   "execution_count": 3,
   "metadata": {
    "ExecuteTime": {
     "end_time": "2021-10-05T19:25:03.371670Z",
     "start_time": "2021-10-05T19:25:03.362698Z"
    }
   },
   "outputs": [],
   "source": [
    "def dy(y,t,params):\n",
    "    [D_smtO, D_unreg, RNAP, RD_smtO, RD_unreg, SmtB, SmtBD, Zn, SmtB_Zn, InvR_S, SD, Gated_S, Q, RQ, InvR_U] = y\n",
    "    k_m_smtO, k_m_unreg, k_bind, k_unbind, k_SD_mis, k_SD_NOT, k_rep_S, k_derep_S, k_ind_S, k_unin_S = params\n",
    "    \n",
    "    dD_smtO = k_unbind*RD_smtO - k_bind*D_smtO*RNAP + k_derep_S*SmtBD - k_rep_S*D_smtO*SmtB + k_m_smtO*RD_smtO \n",
    "    dD_unreg = k_unbind*RD_unreg - k_bind*D_unreg*RNAP + k_m_unreg*RD_unreg\n",
    "    dRNAP = k_unbind*RD_smtO - k_bind*D_smtO*RNAP + k_m_smtO*RD_smtO + k_unbind*RD_unreg - k_bind*D_unreg*RNAP + k_m_unreg*RD_unreg \n",
    "    dRD_smtO = k_bind*D_smtO*RNAP - k_unbind*RD_smtO - k_m_smtO*RD_smtO \n",
    "    dRD_unreg = k_bind*D_unreg*RNAP - k_unbind*RD_unreg - k_m_unreg*RD_unreg\n",
    "    dSmtB = k_derep_S*SmtBD - k_rep_S*D_smtO*SmtB - k_ind_S*SmtB*Zn + k_unin_S*SmtB_Zn\n",
    "    dSmtBD = k_rep_S*D_smtO*SmtB - k_derep_S*SmtBD\n",
    "    dZn = k_unin_S*SmtB_Zn - k_ind_S*SmtB*Zn\n",
    "    dSmtB_Zn = k_ind_S*SmtB*Zn - k_unin_S*SmtB_Zn\n",
    "    dInvR_S = k_m_smtO*RD_smtO - k_SD_NOT*InvR_S*InvR_U\n",
    "    dSD = k_SD_mis*RQ*InvR_U \n",
    "    dGated_S = k_SD_NOT*InvR_S*InvR_U\n",
    "    dQ = dSD \n",
    "    dRQ = -dSD\n",
    "    dInvR_U = k_m_unreg*RD_unreg - k_SD_NOT*InvR_S*InvR_U - k_SD_mis*InvR_U*RQ\n",
    "    \n",
    "    diff = [dD_smtO, dD_unreg, dRNAP, dRD_smtO, dRD_unreg, dSmtB, dSmtBD, dZn, dSmtB_Zn, dInvR_S, dSD, dGated_S, dQ, dRQ, dInvR_U]\n",
    "    \n",
    "    return diff"
   ]
  },
  {
   "cell_type": "markdown",
   "metadata": {},
   "source": [
    "### Setting the parameters:\n",
    "\n",
    "\n",
    "$$k_{m,smtO} = 0.05 /\\mu M\\text{-sec (note a)} \\qquad$$\n",
    "<br>\n",
    "$$k_{m,unreg} = 0.04 /\\mu M\\text{-sec (note a)} \\qquad$$\n",
    "<br>\n",
    "$$k_{bind} = 56 /\\mu M\\text{-sec} \\qquad k_{unbind} = 0.2 \\text{/sec [3]}$$\n",
    "<br>\n",
    "$$k_{SD-mis} = 0.004 /\\mu M\\text{-sec (note b)}\\qquad k_{SD-NOT} = 0.08 /\\mu M\\text{-sec (note c)}\\qquad$$\n",
    "<br>\n",
    "$$k_{rep,S} = 3.0 /\\mu M\\text{-sec} \\qquad k_{derep,S} = 0.18 \\text{/sec [4]}$$\n",
    "<br>\n",
    "$$k_{ind,S} = 80 /\\mu M\\text{-sec} \\qquad k_{unin,S} = 0.01 \\text{/sec [note d]}$$\n",
    "<br>\n",
    "\n",
    "**References:**<br>\n",
    "\n",
    "[1] McClure, W. R., Rate-limiting steps in RNA chain initiation. PNAS, 1980. 77(10):\n",
    "p.5634-8.\n",
    "\n",
    "[2] Conrad, T., et al., Maximizing transcription of nucleic acids with efficient T7 promoters.\n",
    "Commun. Biol., 2020. 3(1):p. 439.\n",
    "\n",
    "[3] Ujvari, A. *et al.* \"Thermodynamics and kinetic measurements of promoter biding by T7 RNA polymerase.\" *Biochemistry.* (1996).\n",
    "\n",
    "[4] Busenlehner, L. S. *et al.* \"The SmtB/ArsR family of metalloregulatory transcriptional repressors: structural insights into prokaryotic metal resistance.\" *FEMS Microbiology Reviews.* (2003).\n",
    "\n",
    "[5] Srinivas, N., et al., On the biophysics and kinetics of toehold-mediated DNA strand\n",
    "displacement. Nucleic Acids Research, 2013. 41(22): p.10641-58\n",
    "\n",
    "[6] VanZile, M. L., et al., Structural characterization of distinct a3N and a5 metal sites\n",
    "in the cyanobacterial zinc sensor SmtB. Biochemistry, 2002. 41(31): p.9765-75\n",
    "\n",
    "\n",
    "\n",
    "**Notes:**<br>\n",
    "\n",
    "(a) The transcription rate of k_{m,smtO} is estimated to be 2 times slower than that of k_{m,tetO} [1] because the initially transcribed nucleotides have a slower transcriptional efficiency due to sequence [2]. The transcription rate of k_{m,unreg} is estimated to be 2.5 times slower, because the initial nucleotides are even less effecient than that of the smtO-regulated sequence.  \n",
    "\n",
    "(b) The estimated strand displacement rate for a 4-nt toehold is 0.04 /uM-sec [5]. To account for the energetic penalty from the encoded basepair mismatch between the unregulated transcript and the signal gate, we estimate a roughly 10-fold reduction in strand displacement rate as a result. \n",
    "\n",
    "(c) The regulated RNA transcript encodes the matching base pair that the unregulated transcript lacks, so we estimate a roughly 2-fold increase in strand displacement rate as a result. \n",
    "\n",
    "(d) These values were estimated from [6]."
   ]
  },
  {
   "cell_type": "code",
   "execution_count": 4,
   "metadata": {
    "ExecuteTime": {
     "end_time": "2021-10-05T19:25:03.378025Z",
     "start_time": "2021-10-05T19:25:03.374226Z"
    },
    "scrolled": true
   },
   "outputs": [],
   "source": [
    "k_m_smtO = 0.1*60./2 # /min\n",
    "k_m_unreg = 0.1*60./2.5 # /min\n",
    "k_bind = 56.*60. # /uM-min\n",
    "k_unbind = 0.20*60. # /min\n",
    "k_SD_mis = 0.04*60./10. # /uM-min \n",
    "k_SD_NOT = 0.04*60.*2. # /uM-min\n",
    "k_rep_S = 3.00*60. # /uM-min\n",
    "k_derep_S = 0.18*60. # /min\n",
    "k_ind_S = 80.*60. # /uM-min\n",
    "k_unin_S = 0.1*60. # /min"
   ]
  },
  {
   "cell_type": "markdown",
   "metadata": {},
   "source": [
    "### Setting the experimental initial conditions: "
   ]
  },
  {
   "cell_type": "code",
   "execution_count": 5,
   "metadata": {
    "ExecuteTime": {
     "end_time": "2021-10-05T19:25:03.384472Z",
     "start_time": "2021-10-05T19:25:03.380081Z"
    }
   },
   "outputs": [],
   "source": [
    "D_smtO_0 = 0.05 # uM\n",
    "D_unreg_0 = 0.025 # uM\n",
    "RNAP_0 = 0.1 # uM\n",
    "RD_smtO_0 = 0.0 # uM\n",
    "RD_unreg_0 = 0.0 # uM\n",
    "SmtB_0 = 7.5 # uM\n",
    "SmtBD_0 = 0.0 # uM\n",
    "SmtB_Zn_0 = 0.0 # uM\n",
    "InvR_S_0 = 0.0 # uM\n",
    "RQ_0 = 5.0 # uM\n",
    "SD_0 = 0.0 # uM\n",
    "Q_0 = 0.0 # uM\n",
    "InvR_U_0 = 0.0 # uM\n",
    "Gated_S_0 = 0.0 # uM"
   ]
  },
  {
   "cell_type": "markdown",
   "metadata": {},
   "source": [
    "### Solving the equations:"
   ]
  },
  {
   "cell_type": "code",
   "execution_count": 6,
   "metadata": {
    "ExecuteTime": {
     "end_time": "2021-10-05T19:25:03.426205Z",
     "start_time": "2021-10-05T19:25:03.386012Z"
    },
    "scrolled": false
   },
   "outputs": [],
   "source": [
    "# Defining the without input condition:\n",
    "\n",
    "Zn_0 = 0.0 # uM\n",
    "\n",
    "# Running the ODE solver:\n",
    "y_0 = [D_smtO_0, D_unreg_0, RNAP_0, RD_smtO_0, RD_unreg_0, SmtB_0, SmtBD_0, Zn_0, SmtB_Zn_0, InvR_S_0, SD_0, Gated_S_0, Q_0, RQ_0, InvR_U_0]\n",
    "params = k_m_smtO, k_m_unreg, k_bind, k_unbind, k_SD_mis, k_SD_NOT, k_rep_S, k_derep_S, k_ind_S, k_unin_S\n",
    "y1 = spi.odeint(dy,y_0,t,args=(params,))\n",
    "\n",
    "# Isolating desired output data:\n",
    "ninput = y1[:,10] \n",
    "\n",
    "# Defining the with input condition:\n",
    "\n",
    "Zn_0 = 30.0 # uM\n",
    "\n",
    "# Running the ODE solver:\n",
    "y_0 = [D_smtO_0, D_unreg_0, RNAP_0, RD_smtO_0, RD_unreg_0, SmtB_0, SmtBD_0, Zn_0, SmtB_Zn_0, InvR_S_0, SD_0, Gated_S_0, Q_0, RQ_0, InvR_U_0]\n",
    "params = k_m_smtO, k_m_unreg, k_bind, k_unbind, k_SD_mis, k_SD_NOT, k_rep_S, k_derep_S, k_ind_S, k_unin_S\n",
    "y2 = spi.odeint(dy,y_0,t,args=(params,))\n",
    "\n",
    "# Isolating desired output data:\n",
    "ZnSO4 = y2[:,10] "
   ]
  },
  {
   "cell_type": "markdown",
   "metadata": {},
   "source": [
    "### Plotting the result: "
   ]
  },
  {
   "cell_type": "code",
   "execution_count": 7,
   "metadata": {
    "ExecuteTime": {
     "end_time": "2021-10-05T19:25:03.709778Z",
     "start_time": "2021-10-05T19:25:03.428356Z"
    }
   },
   "outputs": [
    {
     "data": {
      "image/png": "[encoded data removed]",
      "text/plain": [
       "<Figure size 576x432 with 1 Axes>"
      ]
     },
     "metadata": {
      "needs_background": "light"
     },
     "output_type": "display_data"
    }
   ],
   "source": [
    "font = {'family' : 'sans serif',\n",
    "            'weight' : 'normal',\n",
    "            'size'   : 16}\n",
    "\n",
    "plt.rc('font', **font)\n",
    "\n",
    "fig, ax = plt.subplots(1, figsize=(8, 6))\n",
    "ax.plot(t, ninput, color=\"grey\", label=\"No Input\")\n",
    "ax.plot(t, ZnSO4, color=\"blue\", label=\"ZnSO4\")\n",
    "plt.xlabel(\"time (min)\")\n",
    "plt.ylabel(\"[SD] (uM)\")\n",
    "plt.legend(bbox_to_anchor=(1.4, 1.0), loc=\"upper right\", frameon=True, edgecolor = 'black')\n",
    "plt.savefig('NOT_Zn', bbox_inches=\"tight\")"
   ]
  },
  {
   "cell_type": "markdown",
   "metadata": {},
   "source": [
    "### Saving the result to a csv file:"
   ]
  },
  {
   "cell_type": "code",
   "execution_count": 8,
   "metadata": {
    "ExecuteTime": {
     "end_time": "2021-10-05T19:25:03.730628Z",
     "start_time": "2021-10-05T19:25:03.713036Z"
    }
   },
   "outputs": [],
   "source": [
    "rows = zip(ninput,ZnSO4)\n",
    "with open('NOT_Zn.csv', \"w\") as f:\n",
    "    writer = csv.writer(f)\n",
    "    for row in rows:\n",
    "        writer.writerow(row)\n",
    "        \n",
    "\n",
    "df = pd.read_csv('NOT_Zn.csv', header=None)\n",
    "df.rename(columns={0: 'No Input', 1: 'ZnSO4'}, inplace=True)\n",
    "df.to_csv('NOT_Zn.csv', index=False)"
   ]
  }
 ],
 "metadata": {
  "kernelspec": {
   "display_name": "Python 3",
   "language": "python",
   "name": "python3"
  },
  "language_info": {
   "codemirror_mode": {
    "name": "ipython",
    "version": 3
   },
   "file_extension": ".py",
   "mimetype": "text/x-python",
   "name": "python",
   "nbconvert_exporter": "python",
   "pygments_lexer": "ipython3",
   "version": "3.7.6"
  }
 },
 "nbformat": 4,
 "nbformat_minor": 2
}
