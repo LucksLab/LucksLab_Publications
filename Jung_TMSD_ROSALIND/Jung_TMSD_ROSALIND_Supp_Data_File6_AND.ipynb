{
 "cells": [
  {
   "cell_type": "markdown",
   "metadata": {},
   "source": [
    "### Supplementary Information for Programming Cell-Free Biosensors with DNA Strand Displacement Circuits\n",
    "\n",
    "Jaeyoung K. Jung$^{1,2,3}$, Chloé M. Archuleta$^{1,2,3}$, Khalid K. Alam$^{1,2,3,4}$ and Julius B. Lucks$^{1,2,3,4,5,*}$\n",
    "\n",
    "1 – Department of Chemical and Biological Engineering, Northwestern University (Evanston IL, USA)<br>\n",
    "2 – Center for Synthetic Biology, Northwestern University (Evanston, IL, USA)<br>\n",
    "3 – Center for Water Research, Northwestern University (Evanston, IL, USA)<br>\n",
    "4 – Stemloop, Inc. (Evanston, IL, USA)<br>\n",
    "5 – Interdisciplinary Biological Sciences Graduate Program, Northwestern University (Evanston, IL, USA)<br>\n",
    "*correspondence: jblucks@northwestern.edu <br> "
   ]
  },
  {
   "cell_type": "markdown",
   "metadata": {},
   "source": [
    "### ODE Model of ROSALIND-TMSD AND Gate\n",
    "\n",
    "Using the kinetics rates of RNAP-DNA binding, TetR-tetO binding, SmtB-smtO binding, TetR-tet binding, SmtB-Zn binding, and toehold-mediated strand displacmenet, simulate ROSALIND-TMSD Reactions<br>\n",
    "\n",
    "**Reactant Species:**<br>\n",
    "\n",
    "D_tetO - Regulated DNA template with tetO operator sequence <br>\n",
    "D_smtO - Regulated DNA template with smtO operator sequence <br>\n",
    "RNAP - T7 RNAP <br>\n",
    "RD_tetO - T7 RNAP and tetO-regulated DNA template bound complex <br>\n",
    "RD_smtO - T7 RNAP and smtO-regulated DNA template bound complex <br>\n",
    "TetR - unbound, free TetR dimer <br>\n",
    "SmtB - unbound, free SmtB tetramer <br>\n",
    "TetRD - TetR dimer bound to one tetO <br>\n",
    "SmtBD - SmtB tetramer bound to one smtO <br>\n",
    "tet - unbound, free tetracycline <br>\n",
    "Zn - unbound, free Zn ions <br>\n",
    "TetR_tet - one tet ion bound to TetR dimer <br>\n",
    "SmtB_Zn - one Zn ion bound to SmtB tetramer <br>\n",
    "InvR_T - transcribed invading RNA strand from tetO template <br>\n",
    "InvR_S - transcribed invading RNA strand from smtO template <br>\n",
    "InvD - strand-displaced ssDNA from AND gate <br>\n",
    "AND-Gate - dsDNA duplex with toeholds for InvR_T and InvR_S <br>\n",
    "SD - fluorescent DNA strand from signal gate  <br>\n",
    "Q - InvadeR and FAM heteroduplex <br>\n",
    "RQ - signal gate <br>\n",
    "\n",
    "**Assumptions:**<br>\n",
    "\n",
    "- Thermodyanmics are modeled, but not individual base pairs/amino acids dynamics themselves\n",
    "- One-to-one binding of T7 RNAP and T7 promoter on the DNA template\n",
    "- One-to-one binding of TetR dimer and tetO on the DNA template\n",
    "- One-to-one binding of SmtB tetramer and smtO on the DNA template\n",
    "- One-to-one binding of TetR dimer and a terracycline ion\n",
    "- One-to-one binding of SmtB tetramer and a Zn ion\n",
    "- TetR dimer can be bound to either tetO on the DNA template or tetracycline, but not both.\n",
    "- SmtB tetramer can be bound to either smtO on the DNA template or Zn, but not both.\n",
    "- All TMSD reactions are irreversible.\n",
    "- Fraying within each gate is ignored.\n",
    "<br>\n",
    "\n",
    "\n",
    "**Reactions:**<br>\n",
    "\n",
    "$$\\underline{\\text{tetO-Regulated Template}}$$\n",
    "<br>\n",
    "\n",
    "$$TetR + D_{tetO} \\xrightarrow[\\text{k_derep_T}]{\\text{k_rep_T}} TetRD$$\n",
    "<br>\n",
    "<br>\n",
    "$$TetR + tet \\xrightarrow[\\text{k_unin_T}]{\\text{k_ind_T}} TetR-tet$$\n",
    "<br>\n",
    "<br>\n",
    "$$RNAP + D_{tetO} \\xrightarrow[\\text{k_unbind}]{\\text{k_bind}} RD_{tetO}$$\n",
    "<br>\n",
    "<br>\n",
    "$$RD_{tetO} \\xrightarrow[\\text{}]{\\text{k_m_tetO}} InvR_T + RNAP + D_{tetO}$$\n",
    "<br>\n",
    "<br>\n",
    "\n",
    "$$\\underline{\\text{smtO-Regulated Template}}$$\n",
    "<br>\n",
    "$$SmtB + D_{smtO} \\xrightarrow[\\text{k_derep_S}]{\\text{k_rep_S}} SmtBD$$\n",
    "<br>\n",
    "<br>\n",
    "$$SmtB + Zn \\xrightarrow[\\text{k_unin_S}]{\\text{k_ind_S}} SmtB-Zn$$\n",
    "<br>\n",
    "<br>\n",
    "$$RNAP + D_{smtO} \\xrightarrow[\\text{k_unbind}]{\\text{k_bind}} RD_{smtO}$$\n",
    "<br>\n",
    "<br>\n",
    "$$RD_{smtO} \\xrightarrow[\\text{}]{\\text{k_m_smtO}} InvR_S + RNAP + D_{smtO}$$\n",
    "<br>\n",
    "<br>\n",
    "\n",
    "$$\\underline{\\text{Strand Displacements}}$$\n",
    "<br>\n",
    "$$InvR_T + InvR_S + AND-Gate \\xrightarrow[\\text{}]{\\text{k_SD_AND}} InvD + Gated_{TS}$$\n",
    "<br>\n",
    "<br>\n",
    "$$InvD + RQ \\xrightarrow[\\text{}]{\\text{k_SD}} SD + Q$$\n",
    "<br>\n",
    "<br>"
   ]
  },
  {
   "cell_type": "markdown",
   "metadata": {},
   "source": [
    "### Importing packages:"
   ]
  },
  {
   "cell_type": "code",
   "execution_count": 17,
   "metadata": {
    "ExecuteTime": {
     "end_time": "2021-10-05T18:59:48.850400Z",
     "start_time": "2021-10-05T18:59:48.847042Z"
    }
   },
   "outputs": [],
   "source": [
    "import matplotlib\n",
    "import numpy as np\n",
    "import scipy.integrate as spi\n",
    "import matplotlib.pyplot as plt\n",
    "import csv \n",
    "import pandas as pd"
   ]
  },
  {
   "cell_type": "markdown",
   "metadata": {},
   "source": [
    "### Setting the time range to run the simulation for:"
   ]
  },
  {
   "cell_type": "code",
   "execution_count": 18,
   "metadata": {
    "ExecuteTime": {
     "end_time": "2021-10-05T18:59:48.856312Z",
     "start_time": "2021-10-05T18:59:48.853121Z"
    }
   },
   "outputs": [],
   "source": [
    "t_start = 0\n",
    "t_step = 1.\n",
    "t_stop = 121.\n",
    "t = np.arange(t_start,t_stop,t_step)"
   ]
  },
  {
   "cell_type": "markdown",
   "metadata": {},
   "source": [
    "### Write out the set of ODEs to solve:\n",
    "\n",
    "$$d[RNAP] = k_{unbind}[RD_{tetO}] - k_{bind}[D_{tetO}][RNAP] + k_{m,tetO}[RD_{tetO}] + k_{unbind}[RD_{smtO}] - k_{bind}[D_{smtO}][RNAP] + k_{m,smtO}[RD_{smtO}]$$\n",
    "\n",
    "$$d[D_{tetO}] = k_{unbind}[RD_{tetO}] - k_{bind}[D_{tetO}][RNAP] + k_{derep_T}[TetRD] - k_{rep_T}[TetR][D_{tetO}] + k_{m,tetO}[RD_{tetO}]$$\n",
    "\n",
    "$$d[D_{smtO}] = k_{unbind}[RD_{smtO}] - k_{bind}[D_{smtO}][RNAP] + k_{derep_S}[SmtBD] - k_{rep_S}[SmtB][D_{smtO}] + k_{m,smtO}[RD_{smtO}]$$\n",
    "\n",
    "$$d[TetR] = k_{derep_T}[TetRD] - k_{rep_T}[D_{tetO}][TetR] - k_{ind_T}[TetR][tet] + k_{unin_T}[TetR-tet]$$\n",
    "\n",
    "$$d[SmtB] = k_{derep_S}[SmtBD] - k_{rep_S}[D_{smtO}][SmtB] - k_{ind_S}[SmtB][Zn] + k_{unin_S}[SmtB-Zn]$$\n",
    "\n",
    "$$d[TetRD] = k_{rep_T}[D_{tetO}][TetR] - k_{derep_T}[TetRD]$$\n",
    "\n",
    "$$d[SmtBD] = k_{rep_S}[D_{smtO}][SmtB] - k_{derep_S}[SmtBD]$$\n",
    "\n",
    "$$d[tet] = k_{unin_T}[TetR-tet] - k_{ind_T}[TetR][tet]$$\n",
    "\n",
    "$$d[Zn] = k_{unin_S}[SmtB-Zn] - k_{ind_S}[SmtB][Zn]$$\n",
    "\n",
    "$$d[TetR-tet] = k_{ind_T}[TetR][tet] - k_{unin_T}[TetR-tet]$$\n",
    "\n",
    "$$d[SmtB-Zn] = k_{ind_S}[SmtB][Zn] - k_{unin_S}[SmtB-Zn]$$\n",
    "\n",
    "$$d[RD_{tetO}] = k_{bind}[D_{tetO}][RNAP] - k_{unbind}[RD_{tetO}] - k_{m,tetO}[RD_{tetO}]$$\n",
    "\n",
    "$$d[RD_{smtO}] = k_{bind}[D_{smtO}][RNAP] - k_{unbind}[RD_{smtO}] - k_{m,smtO}[RD_{smtO}]$$\n",
    "\n",
    "$$d[InvR_T] = k_{m,tetO}[RD_{tetO}] - k_{SD-AND}[InvR_S][InvR_T][AND-Gate]$$\n",
    "\n",
    "$$d[InvR_S] = k_{m,smtO}[RD_{smtO}] - k_{SD-AND}[InvR_S][InvR_T][AND-Gate]$$\n",
    "\n",
    "$$d[InvD] = k_{SD-AND}[InvR_S][InvR_T][AND-Gate] - k_{SD}[InvD][RQ]$$\n",
    "\n",
    "$$d[AND-Gate] = -k_{SD-AND}[InvR_S][InvR_T][AND-Gate]$$\n",
    "\n",
    "$$d[SD] = k_{SD}[InvD][RQ]$$\n",
    "\n",
    "$$d[Q] = d[SD]$$\n",
    "\n",
    "$$d[RQ] = -d[SD]$$"
   ]
  },
  {
   "cell_type": "code",
   "execution_count": 19,
   "metadata": {
    "ExecuteTime": {
     "end_time": "2021-10-05T18:59:48.870511Z",
     "start_time": "2021-10-05T18:59:48.859860Z"
    }
   },
   "outputs": [],
   "source": [
    "def dy(y,t,params):\n",
    "    [D_smtO, D_tetO, RNAP, RD_smtO, RD_tetO, SmtB, TetR, SmtBD, TetRD, Zn, tet, SmtB_Zn, TetR_tet, InvR_S, InvR_T, InvD, SD, Q, RQ, AND_Gate] = y\n",
    "    k_m_smtO, k_m_tetO, k_bind, k_unbind, k_SD, k_SD_AND, k_rep_S, k_derep_S, k_rep_T, k_derep_T, k_ind_S, k_unin_S, k_ind_T, k_unin_T = params\n",
    "    \n",
    "    dD_smtO = k_unbind*RD_smtO - k_bind*D_smtO*RNAP + k_derep_S*SmtBD - k_rep_S*D_smtO*SmtB + k_m_smtO*RD_smtO  \n",
    "    dD_tetO = k_unbind*RD_tetO - k_bind*D_tetO*RNAP + k_derep_T*TetRD - k_rep_T*D_tetO*TetR + k_m_tetO*RD_tetO  \n",
    "    dRNAP = k_unbind*RD_smtO - k_bind*D_smtO*RNAP + k_m_smtO*RD_smtO + k_unbind*RD_tetO - k_bind*D_tetO*RNAP + k_m_tetO*RD_tetO  \n",
    "    dRD_smtO = k_bind*D_smtO*RNAP - k_unbind*RD_smtO - k_m_smtO*RD_smtO  \n",
    "    dRD_tetO = k_bind*D_tetO*RNAP - k_unbind*RD_tetO - k_m_tetO*RD_tetO  \n",
    "    dSmtB = k_derep_S*SmtBD - k_rep_S*D_smtO*SmtB - k_ind_S*SmtB*Zn + k_unin_S*SmtB_Zn  \n",
    "    dTetR = k_derep_T*TetRD - k_rep_T*D_tetO*TetR - k_ind_T*TetR*tet + k_unin_T*TetR_tet \n",
    "    dSmtBD = k_rep_S*D_smtO*SmtB - k_derep_S*SmtBD \n",
    "    dTetRD = k_rep_T*D_tetO*TetR - k_derep_T*TetRD \n",
    "    dZn = k_unin_S*SmtB_Zn - k_ind_S*SmtB*Zn \n",
    "    dtet = k_unin_T*TetR_tet - k_ind_T*TetR*tet \n",
    "    dSmtB_Zn = k_ind_S*SmtB*Zn - k_unin_S*SmtB_Zn \n",
    "    dTetR_tet = k_ind_T*TetR*tet - k_unin_T*TetR_tet \n",
    "    dInvR_S = k_m_smtO*RD_smtO - k_SD_AND*AND_Gate*InvR_S*InvR_T  \n",
    "    dInvR_T = k_m_tetO*RD_tetO - k_SD_AND*AND_Gate*InvR_S*InvR_T  \n",
    "    dInvD = k_SD_AND*AND_Gate*InvR_S*InvR_T - k_SD*InvD*RQ \n",
    "    dSD = k_SD*RQ*InvD  \n",
    "    dQ = dSD  \n",
    "    dRQ = -dSD  \n",
    "    dAND_Gate = -k_SD_AND*InvR_S*InvR_T*AND_Gate  \n",
    "    \n",
    "    diff = [dD_smtO, dD_tetO, dRNAP, dRD_smtO, dRD_tetO, dSmtB, dTetR, dSmtBD, dTetRD, dZn, dtet, dSmtB_Zn, dTetR_tet, dInvR_S, dInvR_T, dInvD, dSD, dQ, dRQ, dAND_Gate]\n",
    "    \n",
    "    return diff"
   ]
  },
  {
   "cell_type": "markdown",
   "metadata": {},
   "source": [
    "### Setting the parameters:\n",
    "\n",
    "\n",
    "$$k_{m,tetO} = 0.1 /\\mu M\\text{-sec [1]} \\qquad$$\n",
    "<br>\n",
    "$$k_{m,smtO} = 0.05 /\\mu M\\text{-sec (note a)} \\qquad$$\n",
    "<br>\n",
    "$$k_{bind} = 56 /\\mu M\\text{-sec [2]} \\qquad k_{unbind} = 0.2 \\text{/sec [2]}$$\n",
    "<br>\n",
    "$$k_{SD} = 0.04 /\\mu M\\text{-sec [3]}\\qquad k_{SD-AND} = 0.08 /\\mu M\\text{-sec (note b)}\\qquad$$\n",
    "<br>\n",
    "$$k_{rep,T} = 2.98 /\\mu M\\text{-sec [4]} \\qquad k_{derep,T} = 0.001 \\text{/sec [4]}$$\n",
    "<br>\n",
    "$$k_{ind,T} = 4.0 /\\mu M\\text{-sec [note c]} \\qquad k_{unin,T} = 0.022 \\text{/sec [note c]}$$\n",
    "<br>\n",
    "$$k_{rep,S} = 3.0 /\\mu M\\text{-sec (note d)} \\qquad k_{derep,S} = 0.18 \\text{/sec (note d)}$$ \n",
    "<br>\n",
    "$$k_{ind,S} = 80 /\\mu M\\text{-sec [6] (note e)} \\qquad k_{unin,S} = 0.1 \\text{/sec [6] (note e)}$$\n",
    "<br> \n",
    "\n",
    "**References:**<br>\n",
    "\n",
    "[1] McClure, W. R., \"Rate-limiting steps in RNA chain initiation.\" *PNAS.* (1980) **77(10): p.5634-8.**\n",
    "\n",
    "[2] Ujvari, A. *et al.*, \"Thermodynamics and kinetic measurements of promoter biding by T7 RNA polymerase.\" *Biochemistry.* (1996).\n",
    "\n",
    "[3] Srinivas, N., *et al.*, \"On the biophysics and kinetics of toehold-mediated DNA strand displacement.\" *Nucleic Acids Research.* (2013) **41(22): p.10641-58**\n",
    "\n",
    "[4] Kedracka-Krok, S. *et al.*, \"Kinetics and Equilibrium Studies of Tet Repressor-Operator Interaction.\" *Journal of Protein Chemistry.* (1998).\n",
    "\n",
    "[5] Conrad, T., *et al.*, \"Maximizing transcription of nucleic acids with efficient T7 promoters.\" *Commun. Biol.* (2020) **3(1):p. 439.**\n",
    "\n",
    "[6] VanZile, M. L., *et al.*, \"Structural characterization of distinct a3N and a5 metal sites in the cyanobacterial zinc sensor SmtB.\" *Biochemistry* (2002) **{41}(31): p.9765-75**\n",
    "\n",
    "**Notes:**<br>\n",
    "\n",
    "(a) This transcription rate is estimated to be 2 times slower than that of k_{m,tetO} because the initially transcribed nucleotides have a slower transcriptional efficiency due to sequence [5]. \n",
    "\n",
    "(b) The estimated strand displacement rate for a 4-nt toehold is 0.04 /uM-sec [3]. To account for the favorable energetics from the increased basepairs of the AND gate, we estimate a roughly 2-fold increase in strand displacement rate as a result. \n",
    "\n",
    "(c) These values were estimated to correlate with experimental results. \n",
    "\n",
    "(d) There was no literature with this information available to the best of our knowledge. We have decided to estimate these values based on a reasonable range of a $K_d$ value for a transcriptional repressor, which is typically in the nanomolar range. Currently, the rate constants are set so that the $$K_d = \\dfrac{k_{derepress}}{k_{repress}} \\approx 60 nM$$.\n",
    "\n",
    "(e) These values have been estimated to fit the association constants of SmtB-Zinc reported in [6]."
   ]
  },
  {
   "cell_type": "code",
   "execution_count": 20,
   "metadata": {
    "ExecuteTime": {
     "end_time": "2021-10-05T18:59:48.877599Z",
     "start_time": "2021-10-05T18:59:48.873035Z"
    },
    "scrolled": true
   },
   "outputs": [],
   "source": [
    "k_m_smtO = 0.1*60./2 # /uM-min\n",
    "k_m_tetO = 0.1*60. # /uM-min\n",
    "k_bind = 56.*60. # /uM-min\n",
    "k_unbind = 0.20*60. # /min\n",
    "k_SD_AND = 0.04*60.*2. # /uM-min\n",
    "k_SD = 0.04*60. # /uM-min\n",
    "k_rep_S = 3.*60. # /uM-min\n",
    "k_derep_S = 0.18*60. # /min\n",
    "k_rep_T = 2.98*60. # /uM-min\n",
    "k_derep_T = 0.001*60. # /min\n",
    "k_ind_S = 80.*60. # /uM-min\n",
    "k_unin_S = 0.1*60. # /min\n",
    "k_ind_T = 4.*60. # /uM-min\n",
    "k_unin_T = 0.002*60. # /min"
   ]
  },
  {
   "cell_type": "markdown",
   "metadata": {},
   "source": [
    "### Setting the experimental initial conditions: "
   ]
  },
  {
   "cell_type": "code",
   "execution_count": 21,
   "metadata": {
    "ExecuteTime": {
     "end_time": "2021-10-05T18:59:48.884494Z",
     "start_time": "2021-10-05T18:59:48.879636Z"
    }
   },
   "outputs": [],
   "source": [
    "D_smtO_0 = 0.05 # uM\n",
    "D_tetO_0 = 0.05 # uM\n",
    "RNAP_0 = 0.1 # uM\n",
    "RD_smtO_0 = 0.0 # uM\n",
    "RD_tetO_0 = 0.0 # uM\n",
    "SmtB_0 = 5.0 # uM\n",
    "TetR_0 = 3.75 # uM\n",
    "SmtBD_0 = 0.0 # uM\n",
    "TetRD_0 = 0.0 # uM\n",
    "SmtB_Zn_0 = 0.0 # uM\n",
    "TetR_tet_0 = 0.0 # uM\n",
    "InvR_S_0 = 0.0 # uM\n",
    "InvR_T_0 = 0.0 # uM\n",
    "RQ_0 = 5.0 # uM\n",
    "SD_0 = 0.0 # uM\n",
    "Q_0 = 0.0 # uM\n",
    "InvD_0 = 0.0 # uM\n",
    "AND_Gate_0 = 5.0 # uM"
   ]
  },
  {
   "cell_type": "markdown",
   "metadata": {},
   "source": [
    "### Solving the equations:"
   ]
  },
  {
   "cell_type": "code",
   "execution_count": 22,
   "metadata": {
    "ExecuteTime": {
     "end_time": "2021-10-05T18:59:49.021423Z",
     "start_time": "2021-10-05T18:59:48.887166Z"
    }
   },
   "outputs": [],
   "source": [
    "# Defining the input conditions:\n",
    "Zn_0 = 0.0 # uM\n",
    "tet_0 = 0.0 # uM\n",
    "\n",
    "# Running the ODE solver:\n",
    "y_0 = [D_smtO_0, D_tetO_0, RNAP_0, RD_smtO_0, RD_tetO_0, SmtB_0, TetR_0, SmtBD_0, TetRD_0, Zn_0, tet_0, SmtB_Zn_0, TetR_tet_0, InvR_S_0, InvR_T_0, InvD_0, SD_0, Q_0, RQ_0, AND_Gate_0]\n",
    "params = k_m_smtO, k_m_tetO, k_bind, k_unbind, k_SD, k_SD_AND, k_rep_S, k_derep_S, k_rep_T, k_derep_T, k_ind_S, k_unin_S, k_ind_T, k_unin_T\n",
    "y1 = spi.odeint(dy,y_0,t,args=(params,))\n",
    "\n",
    "# Isolating desired output data:\n",
    "ninput = y1[:,16] \n",
    "\n",
    "# Defining the input conditions:\n",
    "Zn_0 = 30.0 # uM\n",
    "tet_0 = 0.0 # uM\n",
    "\n",
    "# Running the ODE solver:\n",
    "y_0 = [D_smtO_0, D_tetO_0, RNAP_0, RD_smtO_0, RD_tetO_0, SmtB_0, TetR_0, SmtBD_0, TetRD_0, Zn_0, tet_0, SmtB_Zn_0, TetR_tet_0, InvR_S_0, InvR_T_0, InvD_0, SD_0, Q_0, RQ_0, AND_Gate_0]\n",
    "params = k_m_smtO, k_m_tetO, k_bind, k_unbind, k_SD, k_SD_AND, k_rep_S, k_derep_S, k_rep_T, k_derep_T, k_ind_S, k_unin_S, k_ind_T, k_unin_T\n",
    "y2 = spi.odeint(dy,y_0,t,args=(params,))\n",
    "\n",
    "# Isolating desired output data:\n",
    "ZnSO4 = y2[:,16] \n",
    "\n",
    "# Defining the input conditions:\n",
    "Zn_0 = 0.0 # uM\n",
    "tet_0 = 20.0 # uM\n",
    "\n",
    "# Running the ODE solver:\n",
    "y_0 = [D_smtO_0, D_tetO_0, RNAP_0, RD_smtO_0, RD_tetO_0, SmtB_0, TetR_0, SmtBD_0, TetRD_0, Zn_0, tet_0, SmtB_Zn_0, TetR_tet_0, InvR_S_0, InvR_T_0, InvD_0, SD_0, Q_0, RQ_0, AND_Gate_0]\n",
    "params = k_m_smtO, k_m_tetO, k_bind, k_unbind, k_SD, k_SD_AND, k_rep_S, k_derep_S, k_rep_T, k_derep_T, k_ind_S, k_unin_S, k_ind_T, k_unin_T\n",
    "y3 = spi.odeint(dy,y_0,t,args=(params,))\n",
    "\n",
    "# Isolating desired output data:\n",
    "Tet = y3[:,16] \n",
    "\n",
    "# Defining the input conditions:\n",
    "Zn_0 = 30.0 # uM\n",
    "tet_0 = 20.0 # uM\n",
    "\n",
    "# Running the ODE solver:\n",
    "y_0 = [D_smtO_0, D_tetO_0, RNAP_0, RD_smtO_0, RD_tetO_0, SmtB_0, TetR_0, SmtBD_0, TetRD_0, Zn_0, tet_0, SmtB_Zn_0, TetR_tet_0, InvR_S_0, InvR_T_0, InvD_0, SD_0, Q_0, RQ_0, AND_Gate_0]\n",
    "params = k_m_smtO, k_m_tetO, k_bind, k_unbind, k_SD, k_SD_AND, k_rep_S, k_derep_S, k_rep_T, k_derep_T, k_ind_S, k_unin_S, k_ind_T, k_unin_T\n",
    "y4 = spi.odeint(dy,y_0,t,args=(params,))\n",
    "\n",
    "# Isolating desired output data:\n",
    "Both = y4[:,16] "
   ]
  },
  {
   "cell_type": "markdown",
   "metadata": {},
   "source": [
    "### Plotting the result:"
   ]
  },
  {
   "cell_type": "code",
   "execution_count": 23,
   "metadata": {
    "ExecuteTime": {
     "end_time": "2021-10-05T18:59:49.337729Z",
     "start_time": "2021-10-05T18:59:49.024354Z"
    }
   },
   "outputs": [
    {
     "data": {
      "image/png": "[encoded data removed]",
      "text/plain": [
       "<Figure size 576x432 with 1 Axes>"
      ]
     },
     "metadata": {
      "needs_background": "light"
     },
     "output_type": "display_data"
    }
   ],
   "source": [
    "font = {'family' : 'sans serif',\n",
    "            'weight' : 'normal',\n",
    "            'size'   : 16}\n",
    "\n",
    "plt.rc('font', **font)\n",
    "\n",
    "fig, ax = plt.subplots(1, figsize=(8, 6))\n",
    "ax.plot(t, ninput, color=\"grey\", label=\"No Input\")\n",
    "ax.plot(t, ZnSO4, color=\"blue\", label =\"ZnSO4\")\n",
    "ax.plot(t, Tet, color=\"orange\", label =\"Tet\")\n",
    "ax.plot(t, Both, color=\"purple\", label =\"Both\")\n",
    "plt.xlabel(\"time (min)\")\n",
    "plt.ylabel(\"[SD] (uM)\")\n",
    "plt.legend(bbox_to_anchor=(1.4, 1), loc='upper right', ncol=1, edgecolor = 'black')\n",
    "plt.savefig('AND', bbox_inches=\"tight\")"
   ]
  },
  {
   "cell_type": "markdown",
   "metadata": {},
   "source": [
    "### Saving the result to a csv file:"
   ]
  },
  {
   "cell_type": "code",
   "execution_count": 24,
   "metadata": {
    "ExecuteTime": {
     "end_time": "2021-10-05T18:59:49.363727Z",
     "start_time": "2021-10-05T18:59:49.340412Z"
    }
   },
   "outputs": [],
   "source": [
    "rows = zip(ninput,ZnSO4,Tet,Both)\n",
    "with open('AND.csv', \"w\") as f:\n",
    "    writer = csv.writer(f)\n",
    "    for row in rows:\n",
    "        writer.writerow(row)\n",
    "        \n",
    "\n",
    "df = pd.read_csv('AND.csv', header=None)\n",
    "df.rename(columns={0: 'No Input', 1: 'ZnSO4', 2: 'Tet', 3: 'Both'}, inplace=True)\n",
    "df.to_csv('AND.csv', index=False) "
   ]
  }
 ],
 "metadata": {
  "kernelspec": {
   "display_name": "Python 3",
   "language": "python",
   "name": "python3"
  },
  "language_info": {
   "codemirror_mode": {
    "name": "ipython",
    "version": 3
   },
   "file_extension": ".py",
   "mimetype": "text/x-python",
   "name": "python",
   "nbconvert_exporter": "python",
   "pygments_lexer": "ipython3",
   "version": "3.7.6"
  }
 },
 "nbformat": 4,
 "nbformat_minor": 2
}
